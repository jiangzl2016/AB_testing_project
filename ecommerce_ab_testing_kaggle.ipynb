{
 "cells": [
  {
   "cell_type": "markdown",
   "metadata": {},
   "source": [
    "## A/B testing on an Ecommerce dataset\n",
    "\n",
    "The UX designer of an ecommerce company is working hard on a new version of the product page, which is expected to lead to a higher conversion rate - percentage of users who purchase products after viewing them. The proudct manager shared that the current conversion rate is about **13%** on average throughout the year and the success would look like a **2%** increase in conversion rate. Before rolling out the change, the team wanted to perform an A/B test on a small number of users to see how it performs.\n",
    "\n",
    "This notebook will cover the process of analyzing an A/B test. The dataset comes from a [Kaggle competition](https://www.kaggle.com/zhangluyuan/ab-testing), which contains the results of an A/B test on what seems to be 2 different designs of a website page (old_page vs. new_page). \n",
    "\n",
    "* [Perform Power Analysis](#Section 1)\n",
    "* [Collect and Clean the data](#Section 2)\n",
    "* [Data Sampling](#Section 3)\n",
    "* [Calculate Test Metrics](#Section 4)\n",
    "* [Testing the hypothesis](#Section 5)\n",
    "* [Draw conclusions](#Section 6)"
   ]
  },
  {
   "cell_type": "code",
   "execution_count": 1,
   "metadata": {},
   "outputs": [],
   "source": [
    "import numpy as np\n",
    "import pandas as pd\n",
    "import scipy.stats as stats\n",
    "import statsmodels.stats.api as sms\n",
    "import matplotlib as mpl\n",
    "import matplotlib.pyplot as plt\n",
    "import seaborn as sns\n",
    "from math import ceil\n",
    "from statsmodels.stats.proportion import proportions_ztest, proportion_confint"
   ]
  },
  {
   "cell_type": "markdown",
   "metadata": {},
   "source": [
    "<a id='Section 1'></a>\n",
    "### Step 1: Power Analysis\n",
    "\n",
    "* Power of test: 1 - \\beta = 0.8\n",
    "* Significance level: \\alpha = 0.05\n",
    "* Effect size: effective when conv. rate increase from 13% -> 15% (**2%**)"
   ]
  },
  {
   "cell_type": "code",
   "execution_count": 2,
   "metadata": {},
   "outputs": [
    {
     "name": "stdout",
     "output_type": "stream",
     "text": [
      "We need 4720 samples for both control and test group.\n"
     ]
    }
   ],
   "source": [
    "# Experiment configurations\n",
    "\n",
    "random_seed = 0\n",
    "power = 0.8\n",
    "sig_level = 0.05\n",
    "expected_cvr = 0.13\n",
    "effective_cvr = 0.15\n",
    "\n",
    "effect_size = sms.proportion_effectsize(expected_cvr, effective_cvr)\n",
    "\n",
    "required_sample_size = sms.NormalIndPower().solve_power(\n",
    "    effect_size,\n",
    "    power=power,\n",
    "    alpha=sig_level,\n",
    "    ratio=1\n",
    ")\n",
    "\n",
    "required_sample_size = ceil(required_sample_size)\n",
    "print(f\"We need {required_sample_size} samples for both control and test group.\")"
   ]
  },
  {
   "cell_type": "markdown",
   "metadata": {},
   "source": [
    "<a id='Section 2'></a>\n",
    "\n",
    "### Step 2: Collect and clean data"
   ]
  },
  {
   "cell_type": "code",
   "execution_count": 3,
   "metadata": {},
   "outputs": [
    {
     "data": {
      "text/html": [
       "<div>\n",
       "<style scoped>\n",
       "    .dataframe tbody tr th:only-of-type {\n",
       "        vertical-align: middle;\n",
       "    }\n",
       "\n",
       "    .dataframe tbody tr th {\n",
       "        vertical-align: top;\n",
       "    }\n",
       "\n",
       "    .dataframe thead th {\n",
       "        text-align: right;\n",
       "    }\n",
       "</style>\n",
       "<table border=\"1\" class=\"dataframe\">\n",
       "  <thead>\n",
       "    <tr style=\"text-align: right;\">\n",
       "      <th></th>\n",
       "      <th>user_id</th>\n",
       "      <th>timestamp</th>\n",
       "      <th>group</th>\n",
       "      <th>landing_page</th>\n",
       "      <th>converted</th>\n",
       "    </tr>\n",
       "  </thead>\n",
       "  <tbody>\n",
       "    <tr>\n",
       "      <th>0</th>\n",
       "      <td>851104</td>\n",
       "      <td>2017-01-21 22:11:48.556739</td>\n",
       "      <td>control</td>\n",
       "      <td>old_page</td>\n",
       "      <td>0</td>\n",
       "    </tr>\n",
       "    <tr>\n",
       "      <th>1</th>\n",
       "      <td>804228</td>\n",
       "      <td>2017-01-12 08:01:45.159739</td>\n",
       "      <td>control</td>\n",
       "      <td>old_page</td>\n",
       "      <td>0</td>\n",
       "    </tr>\n",
       "    <tr>\n",
       "      <th>2</th>\n",
       "      <td>661590</td>\n",
       "      <td>2017-01-11 16:55:06.154213</td>\n",
       "      <td>treatment</td>\n",
       "      <td>new_page</td>\n",
       "      <td>0</td>\n",
       "    </tr>\n",
       "  </tbody>\n",
       "</table>\n",
       "</div>"
      ],
      "text/plain": [
       "   user_id                   timestamp      group landing_page  converted\n",
       "0   851104  2017-01-21 22:11:48.556739    control     old_page          0\n",
       "1   804228  2017-01-12 08:01:45.159739    control     old_page          0\n",
       "2   661590  2017-01-11 16:55:06.154213  treatment     new_page          0"
      ]
     },
     "execution_count": 3,
     "metadata": {},
     "output_type": "execute_result"
    }
   ],
   "source": [
    "df = pd.read_csv('./data/ab_data.csv')\n",
    "df.head(3)"
   ]
  },
  {
   "cell_type": "code",
   "execution_count": 4,
   "metadata": {},
   "outputs": [
    {
     "name": "stdout",
     "output_type": "stream",
     "text": [
      "<class 'pandas.core.frame.DataFrame'>\n",
      "RangeIndex: 294478 entries, 0 to 294477\n",
      "Data columns (total 5 columns):\n",
      "user_id         294478 non-null int64\n",
      "timestamp       294478 non-null object\n",
      "group           294478 non-null object\n",
      "landing_page    294478 non-null object\n",
      "converted       294478 non-null int64\n",
      "dtypes: int64(2), object(3)\n",
      "memory usage: 11.2+ MB\n"
     ]
    }
   ],
   "source": [
    "df.info()"
   ]
  },
  {
   "cell_type": "code",
   "execution_count": 5,
   "metadata": {},
   "outputs": [
    {
     "name": "stdout",
     "output_type": "stream",
     "text": [
      "There are 290584 users in the dataset.\n",
      "The group variable has the following classes: \n",
      "['control', 'treatment']\n",
      "\n",
      "\n",
      "The landing_page variable has the following classes: \n",
      "['old_page', 'new_page']\n",
      "\n",
      "\n",
      "The converted variable has the following classes: \n",
      "[0, 1]\n",
      "\n",
      "\n"
     ]
    }
   ],
   "source": [
    "# A quick glance what is in the dataset\n",
    "\n",
    "users_count = df.user_id.nunique()\n",
    "print(f'There are {users_count} users in the dataset.')\n",
    "\n",
    "for var in ['group', 'landing_page', 'converted']:\n",
    "    print(f\"The {var} variable has the following classes: \")\n",
    "    print(df[var].unique().tolist())\n",
    "    print(\"\\n\")"
   ]
  },
  {
   "cell_type": "markdown",
   "metadata": {},
   "source": [
    "We learn the following about the dataset:\n",
    "\n",
    "* `user_id` - The user ID of each session\n",
    "* `timestamp` - Timestamp for the session\n",
    "* `group` - Which group the user was assigned to for that session {control, treatment}\n",
    "* `landing_page` - Which design each user saw on that session {old_page, new_page}\n",
    "* `converted` - Whether the session ended in a conversion or not (binary, 0=not converted, 1=converted)\n",
    "\n",
    "Next, we perform a sanity check of the dataset to see if there is any experiment 'leak'. "
   ]
  },
  {
   "cell_type": "code",
   "execution_count": 6,
   "metadata": {},
   "outputs": [
    {
     "data": {
      "text/html": [
       "<div>\n",
       "<style scoped>\n",
       "    .dataframe tbody tr th:only-of-type {\n",
       "        vertical-align: middle;\n",
       "    }\n",
       "\n",
       "    .dataframe tbody tr th {\n",
       "        vertical-align: top;\n",
       "    }\n",
       "\n",
       "    .dataframe thead th {\n",
       "        text-align: right;\n",
       "    }\n",
       "</style>\n",
       "<table border=\"1\" class=\"dataframe\">\n",
       "  <thead>\n",
       "    <tr style=\"text-align: right;\">\n",
       "      <th>landing_page</th>\n",
       "      <th>new_page</th>\n",
       "      <th>old_page</th>\n",
       "    </tr>\n",
       "    <tr>\n",
       "      <th>group</th>\n",
       "      <th></th>\n",
       "      <th></th>\n",
       "    </tr>\n",
       "  </thead>\n",
       "  <tbody>\n",
       "    <tr>\n",
       "      <th>control</th>\n",
       "      <td>1928</td>\n",
       "      <td>145274</td>\n",
       "    </tr>\n",
       "    <tr>\n",
       "      <th>treatment</th>\n",
       "      <td>145311</td>\n",
       "      <td>1965</td>\n",
       "    </tr>\n",
       "  </tbody>\n",
       "</table>\n",
       "</div>"
      ],
      "text/plain": [
       "landing_page  new_page  old_page\n",
       "group                           \n",
       "control           1928    145274\n",
       "treatment       145311      1965"
      ]
     },
     "execution_count": 6,
     "metadata": {},
     "output_type": "execute_result"
    }
   ],
   "source": [
    "# Sanity Check: whether (i) all control group users are seeing the old page and  \n",
    "# (ii) all treatment group users are seeing the new page\n",
    "\n",
    "pd.crosstab(df['group'], df['landing_page'])"
   ]
  },
  {
   "cell_type": "markdown",
   "metadata": {},
   "source": [
    "**Observation**: There is a small portion of leakage, we could remove them from our dataset."
   ]
  },
  {
   "cell_type": "code",
   "execution_count": 7,
   "metadata": {},
   "outputs": [
    {
     "name": "stdout",
     "output_type": "stream",
     "text": [
      "Removing 3894 multi-session users from the dataset.\n"
     ]
    }
   ],
   "source": [
    "# Remove leakage existing in the control and treatment group.\n",
    "\n",
    "users_sessions_count = df['user_id'].value_counts()\n",
    "users_w_multiple_sessions = users_sessions_count[\n",
    "    users_sessions_count>1\n",
    "].index.tolist()\n",
    "\n",
    "df = df[~df.user_id.isin(users_w_multiple_sessions)]\n",
    "print(f'Removing {len(users_w_multiple_sessions)} multi-session users from the dataset.')"
   ]
  },
  {
   "cell_type": "markdown",
   "metadata": {},
   "source": [
    "<a id='Section 3'></a>\n",
    "\n",
    "### Step 3: Sampling\n",
    "\n",
    "Remeber we have calculated how many samples we need to achieve enough power, so we sample them randomly from the original dataset."
   ]
  },
  {
   "cell_type": "code",
   "execution_count": 8,
   "metadata": {},
   "outputs": [],
   "source": [
    "# Sample to contitute new test dataset, with each group having the required number of samples.\n",
    "\n",
    "test_df = pd.concat([\n",
    "    df[df.group=='control'].sample(n=required_sample_size, random_state=random_seed),\n",
    "    df[df.group=='treatment'].sample(n=required_sample_size, random_state=random_seed)\n",
    "], axis=0)\n",
    "test_df.reset_index(drop=True, inplace=True)"
   ]
  },
  {
   "cell_type": "code",
   "execution_count": 9,
   "metadata": {},
   "outputs": [
    {
     "data": {
      "text/plain": [
       "control      4720\n",
       "treatment    4720\n",
       "Name: group, dtype: int64"
      ]
     },
     "execution_count": 9,
     "metadata": {},
     "output_type": "execute_result"
    }
   ],
   "source": [
    "# Verfiy\n",
    "\n",
    "test_df.group.value_counts()"
   ]
  },
  {
   "cell_type": "markdown",
   "metadata": {},
   "source": [
    "<a id='Section 4'></a>\n",
    "### Step 4: Calculate test metrics"
   ]
  },
  {
   "cell_type": "code",
   "execution_count": 11,
   "metadata": {},
   "outputs": [
    {
     "data": {
      "text/html": [
       "<div>\n",
       "<style scoped>\n",
       "    .dataframe tbody tr th:only-of-type {\n",
       "        vertical-align: middle;\n",
       "    }\n",
       "\n",
       "    .dataframe tbody tr th {\n",
       "        vertical-align: top;\n",
       "    }\n",
       "\n",
       "    .dataframe thead th {\n",
       "        text-align: right;\n",
       "    }\n",
       "</style>\n",
       "<table border=\"1\" class=\"dataframe\">\n",
       "  <thead>\n",
       "    <tr style=\"text-align: right;\">\n",
       "      <th></th>\n",
       "      <th>conversion rate</th>\n",
       "      <th>standard deviation</th>\n",
       "      <th>standard error</th>\n",
       "    </tr>\n",
       "    <tr>\n",
       "      <th>group</th>\n",
       "      <th></th>\n",
       "      <th></th>\n",
       "      <th></th>\n",
       "    </tr>\n",
       "  </thead>\n",
       "  <tbody>\n",
       "    <tr>\n",
       "      <th>control</th>\n",
       "      <td>0.111017</td>\n",
       "      <td>0.314153</td>\n",
       "      <td>0.004573</td>\n",
       "    </tr>\n",
       "    <tr>\n",
       "      <th>treatment</th>\n",
       "      <td>0.120975</td>\n",
       "      <td>0.326098</td>\n",
       "      <td>0.004747</td>\n",
       "    </tr>\n",
       "  </tbody>\n",
       "</table>\n",
       "</div>"
      ],
      "text/plain": [
       "           conversion rate  standard deviation  standard error\n",
       "group                                                         \n",
       "control           0.111017            0.314153        0.004573\n",
       "treatment         0.120975            0.326098        0.004747"
      ]
     },
     "execution_count": 11,
     "metadata": {},
     "output_type": "execute_result"
    }
   ],
   "source": [
    "grouped = test_df.groupby('group')['converted']\n",
    "\n",
    "def p_std(x):\n",
    "    return np.std(x)\n",
    "\n",
    "def p_stderr(y):\n",
    "    return np.std(y)/np.sqrt(y.shape[0])\n",
    "\n",
    "conversion_tbl = grouped.agg(\n",
    "    [np.mean,\n",
    "     p_std,\n",
    "     p_stderr\n",
    "    ]\n",
    ")\n",
    "conversion_tbl.columns = ['conversion rate', 'standard deviation', \n",
    "                          'standard error']\n",
    "conversion_tbl"
   ]
  },
  {
   "cell_type": "markdown",
   "metadata": {},
   "source": [
    "**Observation:** The conversion rate of treatment group is higherm but the difference does not seem to be too much. It could be due to chance, however, we need to perform hypothesis testing to validate this."
   ]
  },
  {
   "cell_type": "markdown",
   "metadata": {},
   "source": [
    "<a id='Section 5'></a>\n",
    "### Step 5: Hypothesis testing\n",
    "\n",
    "H0: p_control = p_treatment <br>\n",
    "Ha: p_control != p_treatment\n",
    "\n",
    "**(i)** Calculate confidence interval using statsmodels library"
   ]
  },
  {
   "cell_type": "code",
   "execution_count": 12,
   "metadata": {},
   "outputs": [
    {
     "name": "stdout",
     "output_type": "stream",
     "text": [
      "z score: -1.51\n",
      "p-value: 0.131\n",
      "The 95% confidence interval for control group: [0.102, 0.120]\n",
      "The 95% confidence interval for treatment group: [0.112, 0.130]\n"
     ]
    }
   ],
   "source": [
    "control_subdf = test_df[test_df.group=='control']\n",
    "treatment_subdf = test_df[test_df.group=='treatment']\n",
    "successes = [control_subdf.converted.sum(), \n",
    "             treatment_subdf.converted.sum()]\n",
    "counts = [control_subdf.converted.count(), \n",
    "          treatment_subdf.converted.count()]\n",
    "\n",
    "# Calculate the z-score and p value\n",
    "zscore, pval = proportions_ztest(successes, nobs=counts)\n",
    "(lower_control, lower_treatment), (upper_control, upper_treatment) = \\\n",
    "                                proportion_confint(successes, nobs=counts, alpha=sig_level)\n",
    "\n",
    "print(f'z score: {zscore:.2f}')\n",
    "print(f'p-value: {pval:.3f}')\n",
    "print(f'The 95% confidence interval for control group: [{lower_control:.3f}, {upper_control:.3f}]')\n",
    "print(f'The 95% confidence interval for treatment group: [{lower_treatment:.3f}, {upper_treatment:.3f}]')"
   ]
  },
  {
   "cell_type": "markdown",
   "metadata": {},
   "source": [
    "**(ii)** Calculate confidence interval by using normal approximation"
   ]
  },
  {
   "cell_type": "code",
   "execution_count": 17,
   "metadata": {},
   "outputs": [
    {
     "name": "stdout",
     "output_type": "stream",
     "text": [
      "z score: -1.51\n",
      "p-value: 0.131\n",
      "The 95% confidence interval for control group: [0.102, 0.120]\n",
      "The 95% confidence interval for treatment group: [0.112, 0.130]\n"
     ]
    }
   ],
   "source": [
    "# Two-sample z-test\n",
    "# Accoring to CLT, we can assume p follows a normal distribution.\n",
    "\n",
    "p_control, p_treatment = conversion_tbl.iloc[0, 0], \\\n",
    "                            conversion_tbl.iloc[1, 0]\n",
    "stderr_control, stderr_treatment = conversion_tbl.iloc[0, 2], \\\n",
    "                            conversion_tbl.iloc[1, 2]\n",
    "\n",
    "unpooled_std = np.sqrt(p_control*(1-p_control)/counts[0] + \\\n",
    "                          p_treatment*(1-p_treatment)/counts[1])\n",
    "zscore = (p_control-p_treatment)/unpooled_std\n",
    "pval = stats.norm.cdf(zscore) * 2\n",
    "\n",
    "# 95% confidence interval\n",
    "lower_control = p_control - stats.norm.ppf((1-sig_level/2))* stderr_control\n",
    "upper_control = p_control + stats.norm.ppf((1-sig_level/2))* stderr_control\n",
    "lower_treatment = p_treatment - stats.norm.ppf((1-sig_level/2))* stderr_treatment\n",
    "upper_treatment = p_treatment + stats.norm.ppf((1-sig_level/2))* stderr_treatment\n",
    "\n",
    "print(f'z score: {zscore:.2f}')\n",
    "print(f'p-value: {pval:.3f}')\n",
    "print(f'The 95% confidence interval for control group: [{lower_control:.3f}, {upper_control:.3f}]')\n",
    "print(f'The 95% confidence interval for treatment group: [{lower_treatment:.3f}, {upper_treatment:.3f}]')"
   ]
  },
  {
   "cell_type": "markdown",
   "metadata": {},
   "source": [
    "<a id='Section 6'></a>\n",
    "### Conclusion\n",
    "\n",
    "Since we calculate that p-value=0.131, which is greater than \\alpha=0.05, we cannot reject the null hypothesis H0. This indicates that the new design **did not perform significantly different** than the old design.\n",
    "\n",
    "Another way to indicate the same result is that the 95% CI for the treatment group is [0.112, 0.130]. This interval contains the mean conversion of control group and does not contain the target at effect size - 15% of conversion. "
   ]
  }
 ],
 "metadata": {
  "kernelspec": {
   "display_name": "Python [conda env:anaconda3]",
   "language": "python",
   "name": "conda-env-anaconda3-py"
  },
  "language_info": {
   "codemirror_mode": {
    "name": "ipython",
    "version": 3
   },
   "file_extension": ".py",
   "mimetype": "text/x-python",
   "name": "python",
   "nbconvert_exporter": "python",
   "pygments_lexer": "ipython3",
   "version": "3.6.8"
  }
 },
 "nbformat": 4,
 "nbformat_minor": 2
}
