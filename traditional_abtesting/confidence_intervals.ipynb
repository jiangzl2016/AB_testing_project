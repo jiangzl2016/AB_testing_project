{
 "cells": [
  {
   "cell_type": "markdown",
   "metadata": {},
   "source": [
    "### Problem\n",
    "\n",
    "In this example, we create a dataset by sampling from normal distribution. We estimate the confidence interval for its mean using both z distribution and t distribution.\n",
    "\n",
    "We also create an simulation experiment to demonstrate the meaning of confidence interval."
   ]
  },
  {
   "cell_type": "code",
   "execution_count": 2,
   "metadata": {},
   "outputs": [],
   "source": [
    "# Import python libraries\n",
    "import numpy as np\n",
    "from scipy.stats import norm, t\n",
    "\n",
    "np.random.seed(1)"
   ]
  },
  {
   "cell_type": "code",
   "execution_count": 5,
   "metadata": {},
   "outputs": [
    {
     "name": "stdout",
     "output_type": "stream",
     "text": [
      "[4.69352768 0.13498297 6.01596867 4.35193534 1.97784678]\n"
     ]
    }
   ],
   "source": [
    "# Generate data from normal distribution\n",
    "\n",
    "N = 1000\n",
    "mu = 5\n",
    "sigma = 2\n",
    "\n",
    "# randn() generates data from a standard normal.\n",
    "X = np.random.randn(N) * sigma + mu\n",
    "print(X[0:5])"
   ]
  },
  {
   "cell_type": "code",
   "execution_count": 13,
   "metadata": {},
   "outputs": [
    {
     "name": "stdout",
     "output_type": "stream",
     "text": [
      "The 95% z-distribution confidence interval is [4.93, 5.18]\n"
     ]
    }
   ],
   "source": [
    "# z confidence interval\n",
    "\n",
    "mu_hat = np.mean(X)\n",
    "sigma_hat = np.std(X, ddof=1)\n",
    "\n",
    "z_left = norm.ppf(0.025)\n",
    "z_right = norm.ppf(0.975)\n",
    "lower = mu_hat + z_left * sigma_hat / np.sqrt(N)\n",
    "upper = mu_hat + z_right * sigma_hat / np.sqrt(N)\n",
    "\n",
    "print(f'The 95% z-distribution confidence interval is [{lower:.2f}, {upper:.2f}]')"
   ]
  },
  {
   "cell_type": "code",
   "execution_count": 12,
   "metadata": {},
   "outputs": [
    {
     "name": "stdout",
     "output_type": "stream",
     "text": [
      "The 95% t-distribution confidence interval is [4.93, 5.18]\n"
     ]
    }
   ],
   "source": [
    "# t confidence interval\n",
    "\n",
    "mu_hat = np.mean(X)\n",
    "sigma_hat = np.std(X, ddof=1)\n",
    "\n",
    "t_left = t.ppf(0.025, df=N - 1)\n",
    "t_right = t.ppf(0.975, df=N - 1)\n",
    "lower = mu_hat + t_left * sigma_hat / np.sqrt(N)\n",
    "upper = mu_hat + t_right * sigma_hat / np.sqrt(N)\n",
    "\n",
    "print(f'The 95% t-distribution confidence interval is [{lower:.2f}, {upper:.2f}]')"
   ]
  },
  {
   "cell_type": "code",
   "execution_count": 14,
   "metadata": {},
   "outputs": [
    {
     "data": {
      "text/plain": [
       "0.9506"
      ]
     },
     "execution_count": 14,
     "metadata": {},
     "output_type": "execute_result"
    }
   ],
   "source": [
    "# The interpretation of confidence interval\n",
    "\n",
    "def experiment():\n",
    "    X = np.random.randn(N) * sigma + mu\n",
    "    mu_hat = np.mean(X)\n",
    "    sigma_hat = np.std(X, ddof=1)\n",
    "\n",
    "    t_left = t.ppf(0.025, df=N - 1)\n",
    "    t_right = t.ppf(0.975, df=N - 1)\n",
    "    lower = mu_hat + t_left * sigma_hat / np.sqrt(N)\n",
    "    upper = mu_hat + t_right * sigma_hat / np.sqrt(N)\n",
    "    return (mu > lower) and (mu < upper)\n",
    "\n",
    "def multi_experiment(M):\n",
    "    results = [experiment() for _ in range(M)]\n",
    "    return np.mean(results)\n",
    "\n",
    "multi_experiment(10000)"
   ]
  },
  {
   "cell_type": "markdown",
   "metadata": {},
   "source": [
    "**Observe:** Out of 10000 trials, the confidence interval contains the true mean approximately 95% of the time."
   ]
  }
 ],
 "metadata": {
  "kernelspec": {
   "display_name": "Python [conda env:anaconda3]",
   "language": "python",
   "name": "conda-env-anaconda3-py"
  },
  "language_info": {
   "codemirror_mode": {
    "name": "ipython",
    "version": 3
   },
   "file_extension": ".py",
   "mimetype": "text/x-python",
   "name": "python",
   "nbconvert_exporter": "python",
   "pygments_lexer": "ipython3",
   "version": "3.6.8"
  }
 },
 "nbformat": 4,
 "nbformat_minor": 2
}
